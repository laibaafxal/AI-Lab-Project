{
  "nbformat": 4,
  "nbformat_minor": 0,
  "metadata": {
    "colab": {
      "provenance": []
    },
    "kernelspec": {
      "name": "python3",
      "display_name": "Python 3"
    },
    "language_info": {
      "name": "python"
    }
  },
  "cells": [
    {
      "cell_type": "code",
      "execution_count": null,
      "metadata": {
        "id": "-2eLe-h-6HNS"
      },
      "outputs": [],
      "source": [
        "import pandas as pd\n",
        "import numpy as np\n",
        "from sklearn.model_selection import train_test_split\n",
        "from sklearn.preprocessing import StandardScaler, LabelEncoder\n",
        "from sklearn.metrics import accuracy_score, precision_score, recall_score, f1_score, mean_squared_error, mean_absolute_error\n",
        "\n",
        "# Models\n",
        "from sklearn.linear_model import LinearRegression, LogisticRegression\n",
        "from sklearn.tree import DecisionTreeClassifier, DecisionTreeRegressor\n",
        "from sklearn.ensemble import RandomForestClassifier, RandomForestRegressor\n",
        "from sklearn.svm import SVC, SVR\n",
        "from sklearn.neighbors import KNeighborsClassifier, KNeighborsRegressor\n",
        "from sklearn.naive_bayes import GaussianNB\n",
        "\n",
        "# Load the dataset\n",
        "df = pd.read_csv('/mnt/data/customer_purchase_data.csv')\n",
        "\n",
        "# Display the first few rows of the dataframe\n",
        "df.head()\n"
      ]
    },
    {
      "cell_type": "markdown",
      "source": [
        "Handle missing values"
      ],
      "metadata": {
        "id": "rHb6h1Vi9g0K"
      }
    },
    {
      "cell_type": "code",
      "source": [
        "# Handle missing values (if any)\n",
        "df = df.dropna()\n",
        "\n",
        "# Encode categorical variables\n",
        "label_encoders = {}\n",
        "for column in df.select_dtypes(include=['object']).columns:\n",
        "    le = LabelEncoder()\n",
        "    df[column] = le.fit_transform(df[column])\n",
        "    label_encoders[column] = le\n",
        "\n",
        "df.head()\n"
      ],
      "metadata": {
        "id": "BouYJr699jKj"
      },
      "execution_count": null,
      "outputs": []
    },
    {
      "cell_type": "markdown",
      "source": [
        "split the data"
      ],
      "metadata": {
        "id": "4ImfIFvD97kT"
      }
    },
    {
      "cell_type": "code",
      "source": [
        "# Assuming 'target' is the name of the target variable column\n",
        "X = df.drop('target', axis=1)\n",
        "y = df['target']\n",
        "\n",
        "# Split the data into training and testing sets\n",
        "X_train, X_test, y_train, y_test = train_test_split(X, y, test_size=0.2, random_state=42)\n"
      ],
      "metadata": {
        "id": "m1XliOO_93pH"
      },
      "execution_count": null,
      "outputs": []
    },
    {
      "cell_type": "markdown",
      "source": [
        "standarlize the feature variable"
      ],
      "metadata": {
        "id": "Qx2fFeq399Wy"
      }
    },
    {
      "cell_type": "code",
      "source": [
        "scaler = StandardScaler()\n",
        "X_train = scaler.fit_transform(X_train)\n",
        "X_test = scaler.transform(X_test)\n"
      ],
      "metadata": {
        "id": "AOvfUyEB96SU"
      },
      "execution_count": null,
      "outputs": []
    },
    {
      "cell_type": "markdown",
      "source": [
        "#Classification Model"
      ],
      "metadata": {
        "id": "sP7wIPDl-Osy"
      }
    },
    {
      "cell_type": "code",
      "source": [
        "def evaluate_classification_model(model, X_train, X_test, y_train, y_test):\n",
        "    model.fit(X_train, y_train)\n",
        "    y_pred = model.predict(X_test)\n",
        "\n",
        "    accuracy = accuracy_score(y_test, y_pred)\n",
        "    precision = precision_score(y_test, y_pred, average='weighted')\n",
        "    recall = recall_score(y_test, y_pred, average='weighted')\n",
        "    f1 = f1_score(y_test, y_pred, average='weighted')\n",
        "\n",
        "    return {'accuracy': accuracy, 'precision': precision, 'recall': recall, 'f1_score': f1}\n"
      ],
      "metadata": {
        "id": "xcM1O1Ou-SJy"
      },
      "execution_count": null,
      "outputs": []
    },
    {
      "cell_type": "markdown",
      "source": [
        "Train and evaluate"
      ],
      "metadata": {
        "id": "L3NcCoLi-S9H"
      }
    },
    {
      "cell_type": "code",
      "source": [
        "# Initialize models\n",
        "classification_models = {\n",
        "    'Logistic Regression': LogisticRegression(),\n",
        "    'Decision Tree Classifier': DecisionTreeClassifier(),\n",
        "    'Random Forest Classifier': RandomForestClassifier(),\n",
        "    'Support Vector Classifier': SVC(),\n",
        "    'K-Nearest Neighbors Classifier': KNeighborsClassifier(),\n",
        "    'Naive Bayes': GaussianNB()\n",
        "}\n",
        "\n",
        "# Evaluate models\n",
        "classification_results = {}\n",
        "for model_name, model in classification_models.items():\n",
        "    classification_results[model_name] = evaluate_classification_model(model, X_train, X_test, y_train, y_test)\n",
        "\n",
        "classification_results\n"
      ],
      "metadata": {
        "id": "_QY-bj2D-Tf_"
      },
      "execution_count": null,
      "outputs": []
    },
    {
      "cell_type": "markdown",
      "source": [
        "#Regression model"
      ],
      "metadata": {
        "id": "2BOtIr78-hKy"
      }
    },
    {
      "cell_type": "code",
      "source": [
        "def evaluate_regression_model(model, X_train, X_test, y_train, y_test):\n",
        "    model.fit(X_train, y_train)\n",
        "    y_pred = model.predict(X_test)\n",
        "\n",
        "    mse = mean_squared_error(y_test, y_pred)\n",
        "    rmse = np.sqrt(mse)\n",
        "    mae = mean_absolute_error(y_test, y_pred)\n",
        "\n",
        "    return {'mse': mse, 'rmse': rmse, 'mae': mae}\n"
      ],
      "metadata": {
        "id": "GU7Td0G0-lWT"
      },
      "execution_count": null,
      "outputs": []
    },
    {
      "cell_type": "markdown",
      "source": [
        "Train and evaluate"
      ],
      "metadata": {
        "id": "plwRMCsh-mEr"
      }
    },
    {
      "cell_type": "code",
      "source": [
        "# Initialize models\n",
        "regression_models = {\n",
        "    'Linear Regression': LinearRegression(),\n",
        "    'Decision Tree Regressor': DecisionTreeRegressor(),\n",
        "    'Random Forest Regressor': RandomForestRegressor(),\n",
        "    'Support Vector Regressor': SVR(),\n",
        "    'K-Nearest Neighbors Regressor': KNeighborsRegressor()\n",
        "}\n",
        "\n",
        "# Evaluate models\n",
        "regression_results = {}\n",
        "for model_name, model in regression_models.items():\n",
        "    regression_results[model_name] = evaluate_regression_model(model, X_train, X_test, y_train, y_test)\n",
        "\n",
        "regression_results\n"
      ],
      "metadata": {
        "id": "V-r3_3uM-qhu"
      },
      "execution_count": null,
      "outputs": []
    }
  ]
}